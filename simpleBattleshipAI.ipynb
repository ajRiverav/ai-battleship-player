{
 "cells": [
  {
   "cell_type": "markdown",
   "metadata": {},
   "source": [
    "A simplified version of the game Battleship is used to train an agent using Reinforcement Learning. \n",
    "\n",
    "The board will consist of a single row with n columns, or squares. Only one ship is allowed and has a size of m<n squares. \n",
    "\n",
    "The expectation is for the agent to learn to\n",
    "a) fire at intervals of m squares (because a ship has a size of m squares and one would sample the space quicker this way), and\n",
    "b) fire at squares adjacent to the previous hit. \n",
    "\n",
    "We believe this policy minimizes the number of shots required to sink the ship. \n",
    "\n",
    "Once this is achieved, we will move on to more, larger ships, and a bigger board. "
   ]
  },
  {
   "cell_type": "markdown",
   "metadata": {},
   "source": [
    "Let's first develop the game engine:"
   ]
  },
  {
   "cell_type": "code",
   "execution_count": 8,
   "metadata": {},
   "outputs": [],
   "source": [
    "import random\n",
    "import numpy as np\n",
    "import matplotlib.pyplot as plt\n",
    "%matplotlib inline\n",
    "\n",
    "def genShipCoords(shipSize,minCoord,maxCoord):\n",
    "    \"\"\"Generate ship coordinates randomly.\n",
    "\n",
    "    Arguments:\n",
    "    shipSize -- \n",
    "    minCoord -- \n",
    "    maxCoord -- \n",
    "    \n",
    "    Example: Assuming one wants the coordinates of a ship of length 3 on a board of size 10x1, one would\n",
    "    call the function: \n",
    "    ship = genShipCoords(3, 10, 1)\n",
    "    # ship returns a list with the coorindates (e.g. [3,4,5])\n",
    "    \"\"\"\n",
    "    \n",
    "    coordinates = [0]*shipSize\n",
    "    coordinates[0] = random.randint(minCoord,maxCoord)\n",
    "    for i in range(1,shipSize):\n",
    "        coordinates[i] = coordinates[i-1] + 1 if coordinates[i-1] < maxCoord else coordinates[i-1]-1\n",
    "    return coordinates"
   ]
  },
  {
   "cell_type": "code",
   "execution_count": 9,
   "metadata": {},
   "outputs": [],
   "source": [
    "class SimpleBattleship(object):\n",
    "    \n",
    "    # Only a one-row board is implemented for now\n",
    "    def __init__(self, shipCoords, boardRows, boardCols):\n",
    "        self.shipCoords = shipCoords\n",
    "        self.boardSize = boardCols\n",
    "        self.board = np.zeros(boardCols) \n",
    "        \n",
    "    def fireShot(self, shotCoordinate):\n",
    "        if shotCoordinate>self.boardSize or shotCoordinate<0:\n",
    "            return 2\n",
    "        elif shotCoordinate in self.shipCoords:\n",
    "            # Hit\n",
    "            self.updateState(shotCoordinate)\n",
    "            return 1\n",
    "        else:\n",
    "            # Miss\n",
    "            return 0\n",
    "    def getState(self):\n",
    "        return self.board\n",
    "    \n",
    "    def updateState(self,coord):\n",
    "        self.board[coord] = 1\n",
    "    \n",
    "\n",
    "def randomAttacker():\n",
    "    shotsTaken = []\n",
    "    numShotsTaken = 0\n",
    "    numHits = 0\n",
    "    numMisses = 0\n",
    "    while True:\n",
    "        randomShot = random.randint(BOARD_SIZE[0], BOARD_SIZE[1])\n",
    "        #print(randomShot)\n",
    "\n",
    "        if randomShot in shotsTaken:\n",
    "            dummy=1\n",
    "            #print(\"INVALID\")\n",
    "        else:\n",
    "            numShotsTaken += 1\n",
    "            if attacker.fireShot(randomShot)==1:\n",
    "                #print(\"HIT\")\n",
    "                numHits += 1\n",
    "            else:\n",
    "                #print(\"MISS\")\n",
    "                numMisses += 1\n",
    "\n",
    "        shotsTaken.append(randomShot)\n",
    "\n",
    "        if numHits == 2 or numMisses==25:\n",
    "            break\n",
    "    return 100*numShotsTaken/BOARD_SIZE[1]\n",
    "\n",
    "    \n",
    "#     print(\"Number of shots taken:{}\".format(numShotsTaken))\n",
    "#     print(\"Number of misses:{}\".format(numMisses))\n",
    "#     print(\"% of board covered to sink ship:{}\".format(100*numShotsTaken/BOARD_SIZE[1]) )"
   ]
  },
  {
   "cell_type": "code",
   "execution_count": 11,
   "metadata": {},
   "outputs": [
    {
     "name": "stdout",
     "output_type": "stream",
     "text": [
      "[6, 7]\n"
     ]
    }
   ],
   "source": [
    "# Play a game\n",
    "BOARD_SIZE = (1,10)\n",
    "SHIP_SIZE = 2\n",
    "\n",
    "ship = genShipCoords(SHIP_SIZE, BOARD_SIZE[0], BOARD_SIZE[1])\n",
    "print(ship)"
   ]
  },
  {
   "cell_type": "markdown",
   "metadata": {},
   "source": [
    "Let's test the getState method in the simpleBattleShip class. "
   ]
  },
  {
   "cell_type": "code",
   "execution_count": 20,
   "metadata": {},
   "outputs": [
    {
     "name": "stdout",
     "output_type": "stream",
     "text": [
      "[0. 0. 0. 0. 0. 0. 1. 0. 0. 0.]\n"
     ]
    }
   ],
   "source": [
    "attacker = SimpleBattleship(ship, BOARD_SIZE[0], BOARD_SIZE[1])\n",
    "attacker.fireShot(ship[0])\n",
    "print(attacker.getState())"
   ]
  },
  {
   "cell_type": "code",
   "execution_count": 5,
   "metadata": {},
   "outputs": [
    {
     "name": "stdout",
     "output_type": "stream",
     "text": [
      "The avg percentCovered was:72.836\n"
     ]
    },
    {
     "data": {
      "text/plain": [
       "array([0., 0., 0., 1., 1., 0., 0., 0., 0., 0.])"
      ]
     },
     "execution_count": 5,
     "metadata": {},
     "output_type": "execute_result"
    },
    {
     "data": {
      "image/png": "[encoded data removed]",
      "text/plain": [
       "<Figure size 432x288 with 1 Axes>"
      ]
     },
     "metadata": {
      "needs_background": "light"
     },
     "output_type": "display_data"
    }
   ],
   "source": [
    "NUM_EPISODES = 10000\n",
    "percentCovered = np.empty(NUM_EPISODES, dtype=int)\n",
    "\n",
    "for i in range(NUM_EPISODES):\n",
    "    percentCovered[i] = randomAttacker()\n",
    "    \n",
    "print(\"The avg percentCovered was:{}\".format(percentCovered.mean()))\n",
    "## fig = plt.hist(percentCovered,normed=True,range=(1,100)); failed last time\n",
    "fig = plt.hist(percentCovered,range=(1,100));\n",
    "attacker.getState()"
   ]
  },
  {
   "cell_type": "markdown",
   "metadata": {},
   "source": [
    "Now that we have a decent, simple battleship engine, let's focus on the reinforcement learning. \n",
    "\n",
    "The following algorithm is based on an actual Q-table. \n",
    "\n",
    "initialize Q[numstates,numactions] arbitrarily\n",
    "observe initial state s\n",
    "repeat\n",
    "    select and carry out an action a\n",
    "    observe reward r and new state s'\n",
    "    Q[s,a] = Q[s,a] + α(r + γmaxa' Q[s',a'] - Q[s,a])\n",
    "    s = s'\n",
    "until terminated"
   ]
  },
  {
   "cell_type": "code",
   "execution_count": 6,
   "metadata": {},
   "outputs": [],
   "source": [
    "# #utility functions\n",
    "# actionSetToStr = {-1:\"LEFT\",1:\"RIGHT\"}\n",
    "\n",
    "\n",
    "# # ACTUAL TRAINING\n",
    "\n",
    "# NUM_EPISODES = 10000\n",
    "# BOARD_SIZE = (1,10)\n",
    "# SHIP_SIZE = 2\n",
    "# ship = genShipCoords(SHIP_SIZE, BOARD_SIZE[0], BOARD_SIZE[1])\n",
    "# print(\"SHIP LOCATION:{}\".format(ship))\n",
    "# attacker = SimpleBattleship(ship, BOARD_SIZE[0], BOARD_SIZE[1])\n",
    "# # let's assume we don't know the number of states\n",
    "# Q  = {} #Q-table\n",
    "# actionSet = (-1,1) #LEFT=-1, RIGHT= +1\n",
    "# R = {1:1, 0:-1, 2:-100} #Reward function: +1 if HIT(1), -1 if MISS(0), -100 if INVALID(2)\n",
    "# s = attacker.getState()\n",
    "# crossHairCoord = 0 # agent starts w/ cross-hair at coordinate 0 \n",
    "# for _ in range(2):\n",
    "#     a = random.choice(actionSet)\n",
    "#     print(\"random action is \" + actionSetToStr[a])\n",
    "    \n",
    "#     crossHairCoord += a\n",
    "#     print(\"crosshair moved to {}\".format(crossHairCoord))\n",
    "\n",
    "#     r = R[attacker.fireShot(randomShot)]\n",
    "#     s1 = attacker.getState()\n",
    "     \n",
    "#     Q[s] = 1\n",
    "#     print(r)\n",
    "#     print(s1)\n"
   ]
  },
  {
   "cell_type": "markdown",
   "metadata": {},
   "source": [
    "One algorithm that uses rollouts is:\n",
    "\n",
    "initialize replay memory D\n",
    "initialize action-value function Q with random weights\n",
    "observe initial state s\n",
    "repeat\n",
    "    select an action a\n",
    "        with probability ε select a random action\n",
    "        otherwise select a = argmaxa’Q(s,a’)\n",
    "    carry out action a\n",
    "    observe reward r and new state s’\n",
    "    store experience <s, a, r, s’> in replay memory D\n",
    "\n",
    "    sample random transitions <ss, aa, rr, ss’> from replay memory D\n",
    "    calculate target for each minibatch transition\n",
    "        if ss’ is terminal state then tt = rr\n",
    "        otherwise tt = rr + γmaxa’Q(ss’, aa’)\n",
    "    train the Q network using (tt - Q(ss, aa))^2 as loss\n",
    "\n",
    "    s = s'\n",
    "until terminated"
   ]
  },
  {
   "cell_type": "code",
   "execution_count": null,
   "metadata": {},
   "outputs": [],
   "source": []
  }
 ],
 "metadata": {
  "kernelspec": {
   "display_name": "venv",
   "language": "python",
   "name": "venv"
  },
  "language_info": {
   "codemirror_mode": {
    "name": "ipython",
    "version": 3
   },
   "file_extension": ".py",
   "mimetype": "text/x-python",
   "name": "python",
   "nbconvert_exporter": "python",
   "pygments_lexer": "ipython3",
   "version": "3.9.9"
  }
 },
 "nbformat": 4,
 "nbformat_minor": 2
}
