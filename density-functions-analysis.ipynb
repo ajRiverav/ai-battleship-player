{
 "cells": [
  {
   "cell_type": "markdown",
   "metadata": {},
   "source": [
    "# Density Function Analysis\n",
    "\n",
    "The intent is to describe the \"attacker\" in terms of how long it takes it to sink a number of ships. This is described in terms of a cumulative density function, which can also be transformed into a probability density function. Since there are a finite number of squares in the battleship grid (typically 100), it is reasonable to say that once all shots have been fired, all ships have been sunk with probability 1. "
   ]
  },
  {
   "cell_type": "code",
   "execution_count": 1,
   "metadata": {
    "collapsed": false
   },
   "outputs": [
    {
     "name": "stderr",
     "output_type": "stream",
     "text": [
      "/usr/local/lib/python2.7/site-packages/matplotlib/font_manager.py:273: UserWarning: Matplotlib is building the font cache using fc-list. This may take a moment.\n",
      "  warnings.warn('Matplotlib is building the font cache using fc-list. This may take a moment.')\n"
     ]
    }
   ],
   "source": [
    "import random\n",
    "\n",
    "import matplotlib.pyplot as plt\n",
    "%matplotlib inline"
   ]
  },
  {
   "cell_type": "code",
   "execution_count": 2,
   "metadata": {
    "collapsed": false
   },
   "outputs": [],
   "source": [
    "#Utility functions\n",
    "def getUnusedCoordinate(usedCoordinates=[]):\n",
    "    while True:\n",
    "        coordinate = random.randint(1,MAX_NUM)\n",
    "        if coordinate not in usedCoordinates:\n",
    "            return coordinate"
   ]
  },
  {
   "cell_type": "markdown",
   "metadata": {},
   "source": [
    "### One-ship scenario"
   ]
  },
  {
   "cell_type": "code",
   "execution_count": 3,
   "metadata": {
    "collapsed": false
   },
   "outputs": [
    {
     "name": "stdout",
     "output_type": "stream",
     "text": [
      "100\n"
     ]
    },
    {
     "data": {
      "image/png": "[encoded data removed]",
      "text/plain": [
       "<matplotlib.figure.Figure at 0x11269f510>"
      ]
     },
     "metadata": {},
     "output_type": "display_data"
    }
   ],
   "source": [
    "numExperiments = 10000\n",
    "experimentResult = list()\n",
    "\n",
    "MAX_NUM = 100\n",
    "#Pick a random place to place the ship \n",
    "ship1Coordinate = getUnusedCoordinate()\n",
    "print ship1Coordinate\n",
    "\n",
    "for _ in range(1,numExperiments):\n",
    "\n",
    "    ship1Sunk = False\n",
    "    keepShooting = True\n",
    "    numShotsTaken = 0\n",
    "    shotsTaken = list()\n",
    "\n",
    "    #Fire randomly until ship is sunken. \n",
    "    while keepShooting:\n",
    "        randomShotCoordinate = random.randint(1,MAX_NUM)\n",
    "\n",
    "        #if we have shot this before, try again. \n",
    "        if randomShotCoordinate in shotsTaken:\n",
    "            continue\n",
    "        else:\n",
    "            shotsTaken.append(randomShotCoordinate)\n",
    "            numShotsTaken += 1\n",
    "\n",
    "            if ship1Coordinate == randomShotCoordinate:\n",
    "                ship1Sunk = True\n",
    "                #print(\"Shot \" + str(randomShotCoordinate) + \", took this many shots \" + str(numShotsTaken))\n",
    "                keepShooting = False\n",
    "\n",
    "    experimentResult.append(numShotsTaken)\n",
    "\n",
    "plt.hist(experimentResult,bins=MAX_NUM,normed=True,range=(1,MAX_NUM));\n"
   ]
  },
  {
   "cell_type": "markdown",
   "metadata": {},
   "source": [
    "### Two-ship scenario"
   ]
  },
  {
   "cell_type": "code",
   "execution_count": 4,
   "metadata": {
    "collapsed": false
   },
   "outputs": [
    {
     "name": "stdout",
     "output_type": "stream",
     "text": [
      "20\n",
      "52\n"
     ]
    },
    {
     "data": {
      "image/png": "[encoded data removed]",
      "text/plain": [
       "<matplotlib.figure.Figure at 0x1126af850>"
      ]
     },
     "metadata": {},
     "output_type": "display_data"
    }
   ],
   "source": [
    "numExperiments = 10000\n",
    "experimentResult = list()\n",
    "\n",
    "MAX_NUM = 100\n",
    "#Pick a random place to place the ship \n",
    "ship1Coordinate = random.randint(1,MAX_NUM)\n",
    "        \n",
    "ship1Coordinate = getUnusedCoordinate([])\n",
    "ship2Coordinate = getUnusedCoordinate([ship1Coordinate])\n",
    "\n",
    "print ship1Coordinate\n",
    "print ship2Coordinate\n",
    "for _ in range(1,numExperiments):\n",
    "\n",
    "    ship1Sunk = False\n",
    "    ship2Sunk = False\n",
    "    keepShooting = True\n",
    "    numShotsTaken = 0\n",
    "    shotsTaken = list()\n",
    "\n",
    "    #Fire randomly until ship is sunken. \n",
    "    while keepShooting:\n",
    "        randomShotCoordinate = random.randint(1,MAX_NUM)\n",
    "\n",
    "        #if we have shot this before, try again. \n",
    "        if randomShotCoordinate in shotsTaken:\n",
    "            continue\n",
    "        else:\n",
    "            shotsTaken.append(randomShotCoordinate)\n",
    "            numShotsTaken += 1\n",
    "\n",
    "            if ship1Coordinate == randomShotCoordinate:\n",
    "                ship1Sunk = True\n",
    "                #print(\"Shot \" + str(randomShotCoordinate) + \", took this many shots \" + str(numShotsTaken))\n",
    "            elif ship2Coordinate == randomShotCoordinate:\n",
    "                ship2Sunk = True\n",
    "                #print(\"Shot \" + str(randomShotCoordinate) + \", took this many shots \" + str(numShotsTaken))\n",
    "                \n",
    "            if ship1Sunk and ship2Sunk:\n",
    "                keepShooting = False\n",
    "\n",
    "    experimentResult.append(numShotsTaken)\n",
    "\n",
    "plt.hist(experimentResult,bins=MAX_NUM,normed=True,range=(1,MAX_NUM));\n"
   ]
  },
  {
   "cell_type": "markdown",
   "metadata": {},
   "source": [
    "### Three-ship scenario"
   ]
  },
  {
   "cell_type": "code",
   "execution_count": 5,
   "metadata": {
    "collapsed": false
   },
   "outputs": [
    {
     "name": "stdout",
     "output_type": "stream",
     "text": [
      "77\n",
      "47\n",
      "1\n"
     ]
    },
    {
     "data": {
      "image/png": "[encoded data removed]",
      "text/plain": [
       "<matplotlib.figure.Figure at 0x112a5b590>"
      ]
     },
     "metadata": {},
     "output_type": "display_data"
    }
   ],
   "source": [
    "numExperiments = 10000\n",
    "experimentResult = list()\n",
    "\n",
    "MAX_NUM = 100\n",
    "#Pick a random place to place the ship \n",
    "ship1Coordinate = getUnusedCoordinate()\n",
    "ship2Coordinate = getUnusedCoordinate([ship1Coordinate])\n",
    "ship3Coordinate = getUnusedCoordinate([ship1Coordinate,ship2Coordinate])\n",
    "\n",
    "print ship1Coordinate\n",
    "print ship2Coordinate\n",
    "print ship3Coordinate\n",
    "\n",
    "for _ in range(1,numExperiments):\n",
    "\n",
    "    ship1Sunk = False\n",
    "    ship2Sunk = False\n",
    "    ship3Sunk = False\n",
    "\n",
    "    keepShooting = True\n",
    "    numShotsTaken = 0\n",
    "    shotsTaken = list()\n",
    "\n",
    "    #Fire randomly until ship is sunken. \n",
    "    while keepShooting:\n",
    "        randomShotCoordinate = random.randint(1,MAX_NUM)\n",
    "\n",
    "        #if we have shot this before, try again. \n",
    "        if randomShotCoordinate in shotsTaken:\n",
    "            continue\n",
    "        else:\n",
    "            shotsTaken.append(randomShotCoordinate)\n",
    "            numShotsTaken += 1\n",
    "\n",
    "            if ship1Coordinate == randomShotCoordinate:\n",
    "                ship1Sunk = True\n",
    "                #print(\"Shot \" + str(randomShotCoordinate) + \", took this many shots \" + str(numShotsTaken))\n",
    "            elif ship2Coordinate == randomShotCoordinate:\n",
    "                ship2Sunk = True\n",
    "                #print(\"Shot \" + str(randomShotCoordinate) + \", took this many shots \" + str(numShotsTaken))\n",
    "            elif ship3Coordinate == randomShotCoordinate:\n",
    "                ship3Sunk = True\n",
    "                #print(\"Shot \" + str(randomShotCoordinate) + \", took this many shots \" + str(numShotsTaken))\n",
    "                \n",
    "            if ship1Sunk and ship2Sunk and ship3Sunk:\n",
    "                keepShooting = False\n",
    "\n",
    "    experimentResult.append(numShotsTaken)\n",
    "\n",
    "plt.hist(experimentResult,bins=MAX_NUM,normed=True,range=(1,MAX_NUM));\n"
   ]
  }
 ],
 "metadata": {
  "kernelspec": {
   "display_name": "Python 2",
   "language": "python",
   "name": "python2"
  },
  "language_info": {
   "codemirror_mode": {
    "name": "ipython",
    "version": 2
   },
   "file_extension": ".py",
   "mimetype": "text/x-python",
   "name": "python",
   "nbconvert_exporter": "python",
   "pygments_lexer": "ipython2",
   "version": "2.7.13"
  }
 },
 "nbformat": 4,
 "nbformat_minor": 2
}
