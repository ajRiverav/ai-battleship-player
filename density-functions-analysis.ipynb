{
 "cells": [
  {
   "cell_type": "markdown",
   "metadata": {},
   "source": [
    "# Density Function Analysis\n",
    "\n",
    "The intent is to describe the \"attacker\" in terms of how long it takes it to sink a number of ships. This is described in terms of a cumulative density function, which can also be transformed into a probability density function. Since there are a finite number of squares in the battleship grid (typically 100), it is reasonable to say that once all shots have been fired, all ships have been sunk with probability 1.\n",
    "\n",
    "### The scenarios\n",
    "\n",
    "A game of battleship is simulated with 1,2, and 3 ships, each one of size 1 (one grid/cell). The attacker takes random shots at the 100-square board. If it is a HIT, the ship sinks. The game is won when the attacker sinks all the ships. \n",
    "\n",
    "The number of shots it took to win is then stored. The game is played 10,000 times. "
   ]
  },
  {
   "cell_type": "code",
   "execution_count": 1,
   "metadata": {
    "collapsed": false
   },
   "outputs": [
    {
     "name": "stderr",
     "output_type": "stream",
     "text": [
      "/usr/local/lib/python2.7/site-packages/matplotlib/font_manager.py:273: UserWarning: Matplotlib is building the font cache using fc-list. This may take a moment.\n",
      "  warnings.warn('Matplotlib is building the font cache using fc-list. This may take a moment.')\n"
     ]
    }
   ],
   "source": [
    "import random\n",
    "import numpy as np\n",
    "import matplotlib.pyplot as plt\n",
    "from matplotlib.ticker import FuncFormatter\n",
    "%matplotlib inline"
   ]
  },
  {
   "cell_type": "code",
   "execution_count": 2,
   "metadata": {
    "collapsed": false
   },
   "outputs": [],
   "source": [
    "#Utility functions\n",
    "def getUnusedCoordinate(usedCoordinates=[]):\n",
    "    while True:\n",
    "        coordinate = random.randint(1,MAX_NUM)\n",
    "        if coordinate not in usedCoordinates:\n",
    "            return coordinate\n",
    "        \n",
    "        \n",
    "def to_percent(y, position):\n",
    "    # Ignore the passed in position. This has the effect of scaling the default\n",
    "    # tick locations.\n",
    "    s = str(100 * y)\n",
    "\n",
    "    # The percent symbol needs escaping in latex\n",
    "    if matplotlib.rcParams['text.usetex'] is True:\n",
    "        return s + r'$\\%$'\n",
    "    else:\n",
    "        return s + '%'"
   ]
  },
  {
   "cell_type": "markdown",
   "metadata": {},
   "source": [
    "### One-ship scenario"
   ]
  },
  {
   "cell_type": "code",
   "execution_count": 3,
   "metadata": {
    "collapsed": false
   },
   "outputs": [
    {
     "name": "stdout",
     "output_type": "stream",
     "text": [
      "The mean is: 50.5786\n",
      "The mean is: 50.5786\n"
     ]
    },
    {
     "data": {
      "image/png": "[encoded data removed]",
      "text/plain": [
       "<matplotlib.figure.Figure at 0x10eab84d0>"
      ]
     },
     "metadata": {},
     "output_type": "display_data"
    }
   ],
   "source": [
    "NUM_EXPERIMENTS = 10000\n",
    "experimentResult = np.empty(NUM_EXPERIMENTS)\n",
    "\n",
    "MAX_NUM = 100\n",
    "#Pick a random place to place the ship \n",
    "ship1Coordinate = getUnusedCoordinate()\n",
    "#print ship1Coordinate\n",
    "\n",
    "for i in range(NUM_EXPERIMENTS):\n",
    "\n",
    "    ship1Sunk = False\n",
    "    keepShooting = True\n",
    "    numShotsTaken = 0\n",
    "    shotsTaken = list()\n",
    "\n",
    "    #Fire randomly until ship is sunken. \n",
    "    while keepShooting:\n",
    "        randomShotCoordinate = random.randint(1,MAX_NUM)\n",
    "\n",
    "        #if we have shot this before, try again. \n",
    "        if randomShotCoordinate in shotsTaken:\n",
    "            continue\n",
    "        else:\n",
    "            shotsTaken.append(randomShotCoordinate)\n",
    "            numShotsTaken += 1\n",
    "\n",
    "            if ship1Coordinate == randomShotCoordinate:\n",
    "                ship1Sunk = True\n",
    "                #print(\"Shot \" + str(randomShotCoordinate) + \", took this many shots \" + str(numShotsTaken))\n",
    "                keepShooting = False\n",
    "\n",
    "    experimentResult[i]=numShotsTaken\n",
    "\n",
    "plt.hist(experimentResult,bins=MAX_NUM,normed=True,range=(1,MAX_NUM));\n",
    "\n",
    "print(\"The mean is: \" + str(experimentResult.mean()))\n",
    "\n",
    "avgNumberOfShotsToWIn = experimentResult.mean()\n",
    "plt.axvline(x=avgNumberOfShotsToWIn,color=\"red\")\n",
    "\n",
    "print(\"The mean is: \" + str(avgNumberOfShotsToWIn))"
   ]
  },
  {
   "cell_type": "markdown",
   "metadata": {},
   "source": [
    "It can be seen that the random-attacker takes on average 50 shots to sink one ship. "
   ]
  },
  {
   "cell_type": "markdown",
   "metadata": {},
   "source": [
    "### Two-ship scenario"
   ]
  },
  {
   "cell_type": "code",
   "execution_count": 4,
   "metadata": {
    "collapsed": false
   },
   "outputs": [
    {
     "name": "stdout",
     "output_type": "stream",
     "text": [
      "The mean is: 67.8364\n"
     ]
    },
    {
     "data": {
      "image/png": "[encoded data removed]",
      "text/plain": [
       "<matplotlib.figure.Figure at 0x10eab8410>"
      ]
     },
     "metadata": {},
     "output_type": "display_data"
    }
   ],
   "source": [
    "experimentResult = np.empty(NUM_EXPERIMENTS)\n",
    "\n",
    "MAX_NUM = 100\n",
    "#Pick a random place to place the ship \n",
    "ship1Coordinate = random.randint(1,MAX_NUM)\n",
    "        \n",
    "ship1Coordinate = getUnusedCoordinate([])\n",
    "ship2Coordinate = getUnusedCoordinate([ship1Coordinate])\n",
    "\n",
    "#print ship1Coordinate\n",
    "#print ship2Coordinate\n",
    "for i in range(NUM_EXPERIMENTS):\n",
    "\n",
    "    ship1Sunk = False\n",
    "    ship2Sunk = False\n",
    "    keepShooting = True\n",
    "    numShotsTaken = 0\n",
    "    shotsTaken = list()\n",
    "\n",
    "    #Fire randomly until ship is sunken. \n",
    "    while keepShooting:\n",
    "        randomShotCoordinate = random.randint(1,MAX_NUM)\n",
    "\n",
    "        #if we have shot this before, try again. \n",
    "        if randomShotCoordinate in shotsTaken:\n",
    "            continue\n",
    "        else:\n",
    "            shotsTaken.append(randomShotCoordinate)\n",
    "            numShotsTaken += 1\n",
    "\n",
    "            if ship1Coordinate == randomShotCoordinate:\n",
    "                ship1Sunk = True\n",
    "                #print(\"Shot \" + str(randomShotCoordinate) + \", took this many shots \" + str(numShotsTaken))\n",
    "            elif ship2Coordinate == randomShotCoordinate:\n",
    "                ship2Sunk = True\n",
    "                #print(\"Shot \" + str(randomShotCoordinate) + \", took this many shots \" + str(numShotsTaken))\n",
    "                \n",
    "            if ship1Sunk and ship2Sunk:\n",
    "                keepShooting = False\n",
    "\n",
    "    experimentResult[i]=numShotsTaken\n",
    "\n",
    "plt.hist(experimentResult,bins=MAX_NUM,normed=True,range=(1,MAX_NUM));\n",
    "\n",
    "avgNumberOfShotsToWIn = experimentResult.mean()\n",
    "plt.axvline(x=avgNumberOfShotsToWIn,color=\"red\")\n",
    "\n",
    "print(\"The mean is: \" + str(avgNumberOfShotsToWIn))"
   ]
  },
  {
   "cell_type": "markdown",
   "metadata": {},
   "source": [
    "The mean number of shots has gone up ~18%, from 50% to 68%, after adding another single-square ship. "
   ]
  },
  {
   "cell_type": "markdown",
   "metadata": {},
   "source": [
    "### Three-ship scenario"
   ]
  },
  {
   "cell_type": "code",
   "execution_count": 5,
   "metadata": {
    "collapsed": false
   },
   "outputs": [
    {
     "name": "stdout",
     "output_type": "stream",
     "text": [
      "The mean is: 75.7435\n"
     ]
    },
    {
     "data": {
      "image/png": "[encoded data removed]",
      "text/plain": [
       "<matplotlib.figure.Figure at 0x10ec35b50>"
      ]
     },
     "metadata": {},
     "output_type": "display_data"
    }
   ],
   "source": [
    "experimentResult = np.empty(NUM_EXPERIMENTS)\n",
    "\n",
    "MAX_NUM = 100\n",
    "#Pick a random place to place the ship \n",
    "ship1Coordinate = getUnusedCoordinate()\n",
    "ship2Coordinate = getUnusedCoordinate([ship1Coordinate])\n",
    "ship3Coordinate = getUnusedCoordinate([ship1Coordinate,ship2Coordinate])\n",
    "\n",
    "#print ship1Coordinate\n",
    "#print ship2Coordinate\n",
    "#print ship3Coordinate\n",
    "\n",
    "for i in range(NUM_EXPERIMENTS):\n",
    "\n",
    "    ship1Sunk = False\n",
    "    ship2Sunk = False\n",
    "    ship3Sunk = False\n",
    "\n",
    "    keepShooting = True\n",
    "    numShotsTaken = 0\n",
    "    shotsTaken = list()\n",
    "\n",
    "    #Fire randomly until ship is sunken. \n",
    "    while keepShooting:\n",
    "        randomShotCoordinate = random.randint(1,MAX_NUM)\n",
    "\n",
    "        #if we have shot this before, try again. \n",
    "        if randomShotCoordinate in shotsTaken:\n",
    "            continue\n",
    "        else:\n",
    "            shotsTaken.append(randomShotCoordinate)\n",
    "            numShotsTaken += 1\n",
    "\n",
    "            if ship1Coordinate == randomShotCoordinate:\n",
    "                ship1Sunk = True\n",
    "                #print(\"Shot \" + str(randomShotCoordinate) + \", took this many shots \" + str(numShotsTaken))\n",
    "            elif ship2Coordinate == randomShotCoordinate:\n",
    "                ship2Sunk = True\n",
    "                #print(\"Shot \" + str(randomShotCoordinate) + \", took this many shots \" + str(numShotsTaken))\n",
    "            elif ship3Coordinate == randomShotCoordinate:\n",
    "                ship3Sunk = True\n",
    "                #print(\"Shot \" + str(randomShotCoordinate) + \", took this many shots \" + str(numShotsTaken))\n",
    "                \n",
    "            if ship1Sunk and ship2Sunk and ship3Sunk:\n",
    "                keepShooting = False\n",
    "\n",
    "    experimentResult[i]=numShotsTaken\n",
    "\n",
    "plt.hist(experimentResult,bins=MAX_NUM,normed=True,range=(1,MAX_NUM));\n",
    "\n",
    "avgNumberOfShotsToWIn = experimentResult.mean()\n",
    "plt.axvline(x=avgNumberOfShotsToWIn,color=\"red\")\n",
    "\n",
    "print(\"The mean is: \" + str(avgNumberOfShotsToWIn))"
   ]
  },
  {
   "cell_type": "markdown",
   "metadata": {},
   "source": [
    "Again, the mean number of shots has gone up from 68% to 75% when playing against 3 ships.\n",
    "\n",
    "Our goal is to lower the mean number of shots required to sink all the ships by training the artificially intelligent battleship player with reinforcement learning. "
   ]
  }
 ],
 "metadata": {
  "kernelspec": {
   "display_name": "Python 2",
   "language": "python",
   "name": "python2"
  },
  "language_info": {
   "codemirror_mode": {
    "name": "ipython",
    "version": 2
   },
   "file_extension": ".py",
   "mimetype": "text/x-python",
   "name": "python",
   "nbconvert_exporter": "python",
   "pygments_lexer": "ipython2",
   "version": "2.7.13"
  }
 },
 "nbformat": 4,
 "nbformat_minor": 2
}
