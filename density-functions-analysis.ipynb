{
 "cells": [
  {
   "cell_type": "markdown",
   "metadata": {},
   "source": [
    "# Density Function Analysis\n",
    "\n",
    "The intent is to describe the \"attacker\" in terms of how long it takes it to sink a number of ships. This is described in terms of a cumulative density function, which can also be transformed into a probability density function. Since there are a finite number of squares in the battleship grid (typically 100), it is reasonable to say that once all shots have been fired, all ships have been sunk with probability 1.\n",
    "\n",
    "### The scenarios\n",
    "\n",
    "A game of battleship is simulated with 1,2, and 3 ships, each one occupying 1 cell, or square. The attacker takes random shots at the 100-square board. If it is a HIT, the ship sinks. The game is won when the attacker sinks all the ships. \n",
    "\n",
    "The number of shots it took to win is then stored. The game is played 10,000 times. "
   ]
  },
  {
   "cell_type": "code",
   "execution_count": 1,
   "metadata": {
    "collapsed": false
   },
   "outputs": [
    {
     "name": "stderr",
     "output_type": "stream",
     "text": [
      "/usr/local/lib/python2.7/site-packages/matplotlib/font_manager.py:273: UserWarning: Matplotlib is building the font cache using fc-list. This may take a moment.\n",
      "  warnings.warn('Matplotlib is building the font cache using fc-list. This may take a moment.')\n"
     ]
    }
   ],
   "source": [
    "import random\n",
    "import numpy as np\n",
    "import matplotlib.pyplot as plt\n",
    "from matplotlib.ticker import FuncFormatter\n",
    "%matplotlib inline"
   ]
  },
  {
   "cell_type": "code",
   "execution_count": 2,
   "metadata": {
    "collapsed": false
   },
   "outputs": [],
   "source": [
    "#Utility functions\n",
    "def getUnusedCoordinate(numCoords,usedCoordinates=[]):\n",
    "    while True:\n",
    "        coordinate = random.randint(1,numCoords)\n",
    "        if coordinate not in usedCoordinates:\n",
    "            return coordinate\n",
    "        \n",
    "        \n",
    "def placeShips(numShips,numCoords):\n",
    "    shipLocation = [0]*numShips\n",
    "    \n",
    "    for i in range(numShips):\n",
    "        shipLocation[i] = getUnusedCoordinate(numCoords,shipLocation)\n",
    "    return shipLocation\n",
    "\n",
    "def playSimpleBattleshipAttacker(numGames,numCoordinates,numShips):\n",
    "    experimentResult = np.empty(NUM_EPISODES)\n",
    "\n",
    "    #Pick a random place to place the ships \n",
    "    shipsCoordinate = placeShips(NUM_SHIPS, NUM_COORDINATES)\n",
    "\n",
    "    for curEpisodeIdx in range(NUM_EPISODES):\n",
    "\n",
    "        shipsSunk = [False]*NUM_SHIPS\n",
    "        keepShooting = True\n",
    "        numShotsTaken = 0\n",
    "        shotsTaken = list()\n",
    "\n",
    "        #Fire randomly until ship is sunken. \n",
    "        while keepShooting:\n",
    "            randomShotCoordinate = random.randint(1,NUM_COORDINATES)\n",
    "\n",
    "            #If we have shot this before, try again. \n",
    "            if randomShotCoordinate in shotsTaken:\n",
    "                continue\n",
    "            else:\n",
    "                shotsTaken.append(randomShotCoordinate)\n",
    "                numShotsTaken += 1\n",
    "\n",
    "                for curShip in range(NUM_SHIPS):\n",
    "                    if shipsCoordinate[curShip] == randomShotCoordinate:\n",
    "                        shipsSunk[curShip] = True\n",
    "\n",
    "                if all(shipSunken==True for shipSunken in shipsSunk):\n",
    "                    keepShooting = False\n",
    "                    experimentResult[curEpisodeIdx]=numShotsTaken\n",
    "    return experimentResult"
   ]
  },
  {
   "cell_type": "markdown",
   "metadata": {},
   "source": [
    "### One-ship scenario"
   ]
  },
  {
   "cell_type": "code",
   "execution_count": 3,
   "metadata": {
    "collapsed": false
   },
   "outputs": [
    {
     "name": "stdout",
     "output_type": "stream",
     "text": [
      "The mean is: 50.6218\n"
     ]
    },
    {
     "data": {
      "image/png": "[encoded data removed]",
      "text/plain": [
       "<matplotlib.figure.Figure at 0x111e36a50>"
      ]
     },
     "metadata": {},
     "output_type": "display_data"
    }
   ],
   "source": [
    "NUM_EPISODES = 10000\n",
    "NUM_COORDINATES = 100\n",
    "NUM_SHIPS = 1\n",
    "\n",
    "experimentResult = playSimpleBattleshipAttacker(NUM_EPISODES,NUM_COORDINATES,NUM_SHIPS)\n",
    "\n",
    "plt.hist(experimentResult,bins=NUM_COORDINATES,normed=True,range=(1,NUM_COORDINATES));\n",
    "\n",
    "avgNumberOfShotsToWIn = experimentResult.mean()\n",
    "plt.axvline(x=avgNumberOfShotsToWIn,color=\"red\")\n",
    "\n",
    "print(\"The mean is: \" + str(avgNumberOfShotsToWIn))"
   ]
  },
  {
   "cell_type": "markdown",
   "metadata": {},
   "source": [
    "#### Observations about the random-shot attacker. \n",
    "\n",
    "* The mean number of shots to sink one ship is 50. \n",
    "* All number of shots have almost equal probability of sinking the ship (1%). This makes perfect sense, the ship has size 1 and there are 100 squares. Because the ship is being placed randomly on the grid, the likelihood that there is a ship in a given square is 1/100 = 0.01 or 1%. This means that the probability density function for sinking a ship can be modeled as a uniform distribution (U(1,100)). \n"
   ]
  },
  {
   "cell_type": "markdown",
   "metadata": {},
   "source": [
    "### Two-ship scenario"
   ]
  },
  {
   "cell_type": "code",
   "execution_count": 4,
   "metadata": {
    "collapsed": false
   },
   "outputs": [
    {
     "name": "stdout",
     "output_type": "stream",
     "text": [
      "The mean is: 67.6238\n"
     ]
    },
    {
     "data": {
      "image/png": "[encoded data removed]",
      "text/plain": [
       "<matplotlib.figure.Figure at 0x112664d10>"
      ]
     },
     "metadata": {},
     "output_type": "display_data"
    }
   ],
   "source": [
    "NUM_EPISODES = 10000\n",
    "NUM_COORDINATES = 100\n",
    "NUM_SHIPS = 2\n",
    "\n",
    "experimentResult = playSimpleBattleshipAttacker(NUM_EPISODES,NUM_COORDINATES,NUM_SHIPS)\n",
    "\n",
    "plt.hist(experimentResult,bins=NUM_COORDINATES,normed=True,range=(1,NUM_COORDINATES));\n",
    "\n",
    "avgNumberOfShotsToWIn = experimentResult.mean()\n",
    "plt.axvline(x=avgNumberOfShotsToWIn,color=\"red\")\n",
    "\n",
    "print(\"The mean is: \" + str(avgNumberOfShotsToWIn))"
   ]
  },
  {
   "cell_type": "markdown",
   "metadata": {},
   "source": [
    "The mean number of shots has gone up ~18%, from 50% to 68%, after adding another single-square ship. "
   ]
  },
  {
   "cell_type": "markdown",
   "metadata": {},
   "source": [
    "### Three-ship scenario"
   ]
  },
  {
   "cell_type": "code",
   "execution_count": null,
   "metadata": {
    "collapsed": false
   },
   "outputs": [
    {
     "name": "stdout",
     "output_type": "stream",
     "text": [
      "The mean is: 75.7678\n"
     ]
    },
    {
     "data": {
      "image/png": "[encoded data removed]",
      "text/plain": [
       "<matplotlib.figure.Figure at 0x11299d410>"
      ]
     },
     "metadata": {},
     "output_type": "display_data"
    }
   ],
   "source": [
    "NUM_EPISODES = 10000\n",
    "NUM_COORDINATES = 100\n",
    "NUM_SHIPS = 3\n",
    "\n",
    "experimentResult = playSimpleBattleshipAttacker(NUM_EPISODES,NUM_COORDINATES,NUM_SHIPS)\n",
    "\n",
    "plt.hist(experimentResult,bins=NUM_COORDINATES,normed=True,range=(1,NUM_COORDINATES));\n",
    "\n",
    "avgNumberOfShotsToWIn = experimentResult.mean()\n",
    "plt.axvline(x=avgNumberOfShotsToWIn,color=\"red\")\n",
    "\n",
    "print(\"The mean is: \" + str(avgNumberOfShotsToWIn))"
   ]
  },
  {
   "cell_type": "markdown",
   "metadata": {},
   "source": [
    "Again, the mean number of shots has gone up from 68% to 75% when playing against 3 ships.\n",
    "\n",
    "Last, let's simulate a true battleship scenario, where 17 squares in aggregate are occupied (the carrier takes 5 squares, the attacker 4, etc...)"
   ]
  },
  {
   "cell_type": "code",
   "execution_count": null,
   "metadata": {
    "collapsed": false
   },
   "outputs": [],
   "source": [
    "NUM_EPISODES = 10000\n",
    "NUM_COORDINATES = 100\n",
    "\n",
    "#when playing with random shots, have 17 ships occupying 1 \n",
    "#square is the same as having multiple ships occupying 17 squares\n",
    "#in total\n",
    "NUM_SHIPS = 17\n",
    "\n",
    "experimentResult = playSimpleBattleshipAttacker(NUM_EPISODES,NUM_COORDINATES,NUM_SHIPS)\n",
    "\n",
    "fig = plt.hist(experimentResult,bins=NUM_COORDINATES,normed=True,range=(1,NUM_COORDINATES));\n",
    "\n",
    "avgNumberOfShotsToWIn = experimentResult.mean()\n",
    "plt.axvline(x=avgNumberOfShotsToWIn,color=\"red\")\n",
    "\n",
    "print(\"The mean is: \" + str(avgNumberOfShotsToWIn))"
   ]
  },
  {
   "cell_type": "markdown",
   "metadata": {},
   "source": [
    "Notice how, on average, it takes 95 shots to sink all the ships when playing with random shots. "
   ]
  }
 ],
 "metadata": {
  "kernelspec": {
   "display_name": "Python 2",
   "language": "python",
   "name": "python2"
  },
  "language_info": {
   "codemirror_mode": {
    "name": "ipython",
    "version": 2
   },
   "file_extension": ".py",
   "mimetype": "text/x-python",
   "name": "python",
   "nbconvert_exporter": "python",
   "pygments_lexer": "ipython2",
   "version": "2.7.13"
  }
 },
 "nbformat": 4,
 "nbformat_minor": 2
}
